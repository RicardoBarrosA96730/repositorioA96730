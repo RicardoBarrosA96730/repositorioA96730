{
 "cells": [
  {
   "cell_type": "code",
   "execution_count": null,
   "metadata": {},
   "outputs": [],
   "source": [
    "def pb():\n",
    "    n = int(input(\"Escolha um nº de 0 a 100: \"))\n",
    "    \n",
    "    if (n < 0) or (n > 100):\n",
    "        print(\"Nº inválido! Tente Novamente.\")\n",
    "        pb()\n",
    "        \n",
    "    else:\n",
    "        li = 0\n",
    "        ls = 100\n",
    "        tpc= (li + ls) // 2\n",
    "        \n",
    "        while (tpc != n):\n",
    "            tpc = (li + ls) // 2\n",
    "            print('''\n",
    "PC adivinhou''', tpc) \n",
    "            \n",
    "            if (tpc < n):\n",
    "                print(\"Está errado!\")\n",
    "                print(\"É superior!\")\n",
    "                li = tpc + 1\n",
    "            elif (tpc > n):\n",
    "                print(\"Está errado!\")\n",
    "                print(\"É inferior!\")\n",
    "                ls = tpc\n",
    "        \n",
    "        if tpc == n:\n",
    "            print(\"PC adivinhou \", tpc, \"e está correto porque é um pc!\")\n",
    "            \n",
    "pb()\n",
    "\n"
   ]
  }
 ],
 "metadata": {
  "kernelspec": {
   "display_name": "Python 3",
   "language": "python",
   "name": "python3"
  },
  "language_info": {
   "codemirror_mode": {
    "name": "ipython",
    "version": 3
   },
   "file_extension": ".py",
   "mimetype": "text/x-python",
   "name": "python",
   "nbconvert_exporter": "python",
   "pygments_lexer": "ipython3",
   "version": "3.8.3"
  }
 },
 "nbformat": 4,
 "nbformat_minor": 4
}
