{
 "cells": [
  {
   "cell_type": "markdown",
   "metadata": {},
   "source": [
    "# TPC3\n",
    "\n",
    "### Algoritmo trocas diretas (Bubble Sort)\n",
    "\n",
    "---\n"
   ]
  },
  {
   "cell_type": "code",
   "execution_count": null,
   "metadata": {},
   "outputs": [],
   "source": [
    "def trocasDiretas():\n",
    "    n = int(input(\"Defina o nº de elementos da lista: \"))\n",
    "    l = []\n",
    "    for i in range(n): \n",
    "        el = int(input(\"Introduza um elemento: \"))\n",
    "        l.append(el)\n",
    "    print(\"Lista desordenada: \", l)\n",
    "    \n",
    "    troca = True\n",
    "    npi = len(l)-1 #nº d vezes que percorre tudo no maximo é o len da lista -1 nºpercinteiros\n",
    "    while troca == True and npi > 0:\n",
    "        troca = False\n",
    "        for j in range(npi):\n",
    "            if l[j] > l[j+1]:\n",
    "                t = l[j]\n",
    "                l[j] = l[j+1]\n",
    "                l[j+1] = t\n",
    "                troca = True\n",
    "        npi = npi - 1\n",
    "    print(\"Lista ordenada: \", l)\n",
    "\n",
    " \n",
    "    \n",
    "\n",
    "trocasDiretas()   \n",
    "        "
   ]
  }
 ],
 "metadata": {
  "kernelspec": {
   "display_name": "Python 3",
   "language": "python",
   "name": "python3"
  },
  "language_info": {
   "codemirror_mode": {
    "name": "ipython",
    "version": 3
   },
   "file_extension": ".py",
   "mimetype": "text/x-python",
   "name": "python",
   "nbconvert_exporter": "python",
   "pygments_lexer": "ipython3",
   "version": "3.8.3"
  }
 },
 "nbformat": 4,
 "nbformat_minor": 4
}
